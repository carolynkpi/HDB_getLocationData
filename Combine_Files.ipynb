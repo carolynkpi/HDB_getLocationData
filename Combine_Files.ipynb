{
 "cells": [
  {
   "cell_type": "markdown",
   "metadata": {},
   "source": [
    "# Combine Results File\n",
    "This code is used to combine output files (both success and failures) of separate runs of each step. \n",
    "1. Combine HDB Address failure files of separate runs. \n",
    "2. Combine HDB Address success files of separate runs with the retry files of the failure cases. \n",
    "3. Combine Walking Distance failure files of separate runs. \n",
    "4. Combine Walking Distance success files of separate runs with the manual retry files of the failure cases. "
   ]
  },
  {
   "cell_type": "markdown",
   "metadata": {},
   "source": [
    "## Import Libraries"
   ]
  },
  {
   "cell_type": "code",
   "execution_count": 1,
   "metadata": {
    "collapsed": true
   },
   "outputs": [],
   "source": [
    "import os"
   ]
  },
  {
   "cell_type": "markdown",
   "metadata": {},
   "source": [
    "## Function to Combine Files"
   ]
  },
  {
   "cell_type": "code",
   "execution_count": 2,
   "metadata": {
    "collapsed": true
   },
   "outputs": [],
   "source": [
    "def compileFile(filelist, compiledName):\n",
    "    \n",
    "    import pandas as pd \n",
    "        \n",
    "    compiled = pd.DataFrame()\n",
    "    for f in filelist: \n",
    "        df = pd.read_csv(f)\n",
    "        # Remove any coordinates that do not fall within Singapore's latitude range. \n",
    "        #df = df.loc[df['Latitude'] >1.2 ,:]\n",
    "        #df = df.loc[df['Latitude'] <1.5 ,:]\n",
    "\n",
    "        compiled = compiled.append(df)\n",
    "        # Remove duplicates\n",
    "        compiled.drop_duplicates(inplace = True)\n",
    "        \n",
    "        print(compiled.shape)\n",
    "    compiled.to_csv(compiledName, index = False)\n",
    "    return True"
   ]
  },
  {
   "cell_type": "markdown",
   "metadata": {},
   "source": [
    "## User Inputs"
   ]
  },
  {
   "cell_type": "code",
   "execution_count": 3,
   "metadata": {
    "collapsed": true
   },
   "outputs": [],
   "source": [
    "filenameBegin = 'HDB_address_latlong_2018' \n",
    "fileType = 'csv'\n",
    "compiledName = 'HDB_address_latlong_compiled_20180311.csv'\n",
    "filelist = ['HDB_address_latlong_failed_retry_20180311.csv']"
   ]
  },
  {
   "cell_type": "markdown",
   "metadata": {},
   "source": [
    "## Get File List"
   ]
  },
  {
   "cell_type": "code",
   "execution_count": 4,
   "metadata": {},
   "outputs": [
    {
     "data": {
      "text/plain": [
       "['HDB_address_latlong_failed_retry_20180311.csv',\n",
       " 'HDB_address_latlong_20180307.csv',\n",
       " 'HDB_address_latlong_20180308.csv',\n",
       " 'HDB_address_latlong_20180309.csv',\n",
       " 'HDB_address_latlong_20180310.csv']"
      ]
     },
     "execution_count": 4,
     "metadata": {},
     "output_type": "execute_result"
    }
   ],
   "source": [
    "for f in os.listdir(): \n",
    "    if f[0: len(filenameBegin)] == filenameBegin and f.split('.')[-1] == fileType:\n",
    "        filelist.append(f)\n",
    "filelist"
   ]
  },
  {
   "cell_type": "markdown",
   "metadata": {},
   "source": [
    "## Call Function"
   ]
  },
  {
   "cell_type": "code",
   "execution_count": 5,
   "metadata": {},
   "outputs": [
    {
     "name": "stdout",
     "output_type": "stream",
     "text": [
      "(40, 4)\n",
      "(2131, 4)\n",
      "(4218, 4)\n",
      "(6310, 4)\n",
      "(8260, 4)\n"
     ]
    },
    {
     "data": {
      "text/plain": [
       "True"
      ]
     },
     "execution_count": 5,
     "metadata": {},
     "output_type": "execute_result"
    }
   ],
   "source": [
    "compileFile(filelist, compiledName)"
   ]
  }
 ],
 "metadata": {
  "kernelspec": {
   "display_name": "Python 3",
   "language": "python",
   "name": "python3"
  },
  "language_info": {
   "codemirror_mode": {
    "name": "ipython",
    "version": 3
   },
   "file_extension": ".py",
   "mimetype": "text/x-python",
   "name": "python",
   "nbconvert_exporter": "python",
   "pygments_lexer": "ipython3",
   "version": "3.6.2"
  }
 },
 "nbformat": 4,
 "nbformat_minor": 2
}
