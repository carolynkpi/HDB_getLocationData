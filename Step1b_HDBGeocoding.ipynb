{
 "cells": [
  {
   "cell_type": "markdown",
   "metadata": {},
   "source": [
    "# Step 1b: Get Coordinates for HDB Blocks"
   ]
  },
  {
   "cell_type": "markdown",
   "metadata": {},
   "source": [
    "## Import Libraries"
   ]
  },
  {
   "cell_type": "code",
   "execution_count": 1,
   "metadata": {
    "collapsed": true
   },
   "outputs": [],
   "source": [
    "import pandas as pd\n",
    "import requests\n",
    "import json as json\n",
    "import time\n",
    "import csv\n",
    "\n",
    "from myFunctions import *\n",
    "keys = getKeys('GoogleAPIKey.txt')"
   ]
  },
  {
   "cell_type": "markdown",
   "metadata": {},
   "source": [
    "## User Inputs\n",
    "I like to date my output files so that I don't accidentally overwrite files of my previous runs. For more automated systems, it should be quite simple to append today's date to the filename. A function will be needed to append a version number to the date if there is already a file with the same name in the directory. But for developmental purposes, it is better to have the user manually change this so that the user knows what he/she is doing. \n",
    "\n",
    "The data file is downloaded from data.gov.sg. \n",
    "\n",
    "We are expecting 8260 unique HDB addresses so this code will need to be run several times to not exceed the daily API usage limit.  The split can be done by changing the 'start' and 'end' variables which are used to slice the pandas data frame. Note that contrary to usual python slices, both the start and the end are included."
   ]
  },
  {
   "cell_type": "code",
   "execution_count": 2,
   "metadata": {
    "collapsed": true
   },
   "outputs": [],
   "source": [
    "dataFile = 'resale_prices_2015_.csv' # This file is from data.gov.sg\n",
    "outputFile = 'HDB_address_latlong_20180307.csv'\n",
    "outputFailureFile = 'HDB_address_latlong_failed_20180307.csv'\n",
    "\n",
    "# Set data range to query for this run. Total data point is 8260. \n",
    "start = 0\n",
    "end = 2100"
   ]
  },
  {
   "cell_type": "markdown",
   "metadata": {},
   "source": [
    "## Get HDB Addresses to Query\n",
    "HDB address formats are created. <br>\n",
    "Duplicate addresses are removed to prevent API request redundancies. <br>\n",
    "The unique addresses are stored in a list to be sliced for separate queries later. <br>\n",
    "The data frame that is read from the data file is preserved to:\n",
    "- contain all required columns. \n",
    "- be indexed by HDB address.\n",
    "\n",
    "This is so that details of failed requests can be accessed from this data frame and saved to a failure file.  The failure file can thus be re-run with this same code later. "
   ]
  },
  {
   "cell_type": "code",
   "execution_count": 3,
   "metadata": {},
   "outputs": [
    {
     "name": "stdout",
     "output_type": "stream",
     "text": [
      "No of HDB addresses: 40\n"
     ]
    }
   ],
   "source": [
    "raw = pd.read_csv(dataFile)\n",
    "print('No of HDB addresses: %i' %(len(raw)))\n",
    "\n",
    "# Create address format. \n",
    "address = 'Blk ' + raw['block'] + ' ' + raw['street_name'] + ' ' + 'Singapore'\n",
    "address = address.tolist()\n",
    "address = ['+'.join(i.split(' '))for i in address]\n",
    "\n",
    "# Remove duplicates by address, to prevent API request redundancies\n",
    "raw['address'] = address\n",
    "raw.drop_duplicates(subset = 'address', inplace = True) \n",
    "\n",
    "# Create address list to query and slice accordingly. \n",
    "address = raw['address'].tolist()\n",
    "address = address[start:end]\n",
    "\n",
    "# Preserve raw for failure retry later\n",
    "raw = raw.loc[:, ['address','block', 'street_name']] \n",
    "raw.set_index('address', inplace = True)"
   ]
  },
  {
   "cell_type": "markdown",
   "metadata": {},
   "source": [
    "## API Query\n",
    "The outermost ***with*** loop ensures that retrieved data are all written to a file if the code is interrupted.   \n",
    "\n",
    "The ***success*** and ***failure*** dictionaries store the coordinate/error for each address. This is to ease troubleshooting. In the event that these dictionaries take up too much memory space, the ***success*** dictionary can be removed because the data are already written to file in the ***with*** loop. However, the ***failure*** dictinary needs to be kept as the data are converted to a data frame and file at the end of the code. "
   ]
  },
  {
   "cell_type": "code",
   "execution_count": 4,
   "metadata": {
    "collapsed": true
   },
   "outputs": [],
   "source": [
    "success = {}\n",
    "failure = {}\n",
    "url = 'https://maps.googleapis.com/maps/api/geocode/json?'"
   ]
  },
  {
   "cell_type": "code",
   "execution_count": 5,
   "metadata": {},
   "outputs": [
    {
     "name": "stdout",
     "output_type": "stream",
     "text": [
      "Try: 1. \n",
      "Blk+83+COMMONWEALTH+CL+Singapore  Geocoding succeeded.\n",
      "Try: 1. \n",
      "Blk+97+COMMONWEALTH+CRES+Singapore  Geocoding succeeded.\n",
      "Try: 1. \n",
      "Blk+95+COMMONWEALTH+DR+Singapore  Geocoding succeeded.\n",
      "Try: 1. \n",
      "Blk+98+COMMONWEALTH+CRES+Singapore  Geocoding succeeded.\n",
      "Try: 1. \n",
      "Blk+93+COMMONWEALTH+DR+Singapore  Geocoding succeeded.\n",
      "Try: 1. \n",
      "Blk+85+COMMONWEALTH+CL+Singapore  Geocoding succeeded.\n",
      "Try: 1. \n",
      "Blk+101+COMMONWEALTH+CRES+Singapore  Geocoding succeeded.\n",
      "Try: 1. \n",
      "Blk+90+COMMONWEALTH+DR+Singapore  Geocoding succeeded.\n",
      "Try: 1. \n",
      "Blk+7+COMMONWEALTH+AVE+Singapore  Geocoding succeeded.\n",
      "Try: 1. \n",
      "Blk+410+COMMONWEALTH+AVE+WEST+Singapore  Geocoding succeeded.\n",
      "Try: 1. \n",
      "Blk+110+COMMONWEALTH+CRES+Singapore  Geocoding succeeded.\n",
      "Try: 1. \n",
      "Blk+100+COMMONWEALTH+CRES+Singapore  Geocoding succeeded.\n",
      "Try: 1. \n",
      "Blk+88+COMMONWEALTH+CL+Singapore  Geocoding succeeded.\n",
      "Try: 1. \n",
      "Blk+84+COMMONWEALTH+CL+Singapore  Geocoding succeeded.\n",
      "Try: 1. \n",
      "Blk+412+COMMONWEALTH+AVE+WEST+Singapore  Geocoding succeeded.\n",
      "Try: 1. \n",
      "Blk+413+COMMONWEALTH+AVE+WEST+Singapore  Geocoding succeeded.\n",
      "Try: 1. \n",
      "Blk+415+COMMONWEALTH+AVE+WEST+Singapore  Geocoding succeeded.\n",
      "Try: 1. \n",
      "Blk+414+COMMONWEALTH+AVE+WEST+Singapore  Geocoding succeeded.\n",
      "Try: 1. \n",
      "Blk+81+COMMONWEALTH+CL+Singapore  Geocoding succeeded.\n",
      "Try: 1. \n",
      "Blk+87+COMMONWEALTH+CL+Singapore  Geocoding succeeded.\n",
      "Try: 1. \n",
      "Blk+96+COMMONWEALTH+CRES+Singapore  Geocoding succeeded.\n",
      "Try: 1. \n",
      "Blk+86+COMMONWEALTH+CL+Singapore  Geocoding succeeded.\n",
      "Try: 1. \n",
      "Blk+113+COMMONWEALTH+CRES+Singapore  Geocoding succeeded.\n",
      "Try: 1. \n",
      "Blk+82+COMMONWEALTH+CL+Singapore  Geocoding succeeded.\n",
      "Try: 1. \n",
      "Blk+102+COMMONWEALTH+CRES+Singapore  Geocoding succeeded.\n",
      "Try: 1. \n",
      "Blk+111+COMMONWEALTH+CRES+Singapore  Geocoding succeeded.\n",
      "Try: 1. \n",
      "Blk+89+COMMONWEALTH+DR+Singapore  Geocoding succeeded.\n",
      "Try: 1. \n",
      "Blk+108+COMMONWEALTH+CRES+Singapore  Geocoding succeeded.\n",
      "Try: 1. \n",
      "Blk+109+COMMONWEALTH+CRES+Singapore  Geocoding succeeded.\n",
      "Try: 1. \n",
      "Blk+411+COMMONWEALTH+AVE+WEST+Singapore  Geocoding succeeded.\n",
      "Try: 1. \n",
      "Blk+91+COMMONWEALTH+DR+Singapore  Geocoding succeeded.\n",
      "Try: 1. \n",
      "Blk+94+COMMONWEALTH+DR+Singapore  Geocoding succeeded.\n",
      "Try: 1. \n",
      "Blk+112+COMMONWEALTH+CRES+Singapore  Geocoding succeeded.\n",
      "Try: 1. \n",
      "Blk+99+COMMONWEALTH+CRES+Singapore  Geocoding succeeded.\n",
      "Try: 1. \n",
      "Blk+92+COMMONWEALTH+DR+Singapore  Geocoding succeeded.\n",
      "Try: 1. \n",
      "Blk+7A+COMMONWEALTH+AVE+Singapore  Geocoding succeeded.\n",
      "Try: 1. \n",
      "Blk+51+COMMONWEALTH+DR+Singapore  Geocoding succeeded.\n",
      "Try: 1. \n",
      "Blk+50+COMMONWEALTH+DR+Singapore  Geocoding succeeded.\n",
      "Try: 1. \n",
      "Blk+53+COMMONWEALTH+DR+Singapore  Geocoding succeeded.\n",
      "Try: 1. \n",
      "Blk+52+COMMONWEALTH+DR+Singapore  Geocoding succeeded.\n",
      "Number of success:  40\n",
      "Number of failures:  0\n"
     ]
    }
   ],
   "source": [
    "with open(outputFile, 'w', newline = '', encoding = 'utf-8') as output:\n",
    "    writer = csv.writer(output, delimiter=',')\n",
    "    writer.writerow(['HDB Address', 'Latitude', 'Longtitude', 'latlong'])\n",
    "\n",
    "    for i in address:\n",
    "        params = {'key':keys['GoogleMapsGeocoding'],'address':i}\n",
    "        paramString = getParamString(params)\n",
    "        reqStatus, returnedStatus, data, tries = tryGET(3,url+paramString)\n",
    "    \n",
    "        if reqStatus == 200 and returnedStatus == 'OK':\n",
    "            lat = data['results'][0]['geometry']['location']['lat']\n",
    "            long = data['results'][0]['geometry']['location']['lng']\n",
    "            success[i] = (lat,long)\n",
    "            writer.writerow([i, lat, long, str(lat) + ',' + str(long)])\n",
    "            print(i, ' Geocoding succeeded.')\n",
    "        else:\n",
    "            failure[i] = (raw.loc[i,'block'], raw.loc[i,'street_name'], reqStatus, returnedStatus)\n",
    "            print(i, 'Geocoding failed after ', tries, ' tries.')\n",
    "            print(reqStatus, returnedStatus)\n",
    "\n",
    "print('Number of success: ', len(success))\n",
    "print('Number of failures: ', len(failure))"
   ]
  },
  {
   "cell_type": "markdown",
   "metadata": {},
   "source": [
    "## Save Failure Data"
   ]
  },
  {
   "cell_type": "code",
   "execution_count": 6,
   "metadata": {
    "collapsed": true
   },
   "outputs": [],
   "source": [
    "if len(failure)!=0:\n",
    "    failure = pd.DataFrame.from_dict(failure, orient = 'Index')\n",
    "    failure.reset_index(level=0, inplace=True)\n",
    "    failure.columns = ['HDB Address', 'block', 'street_name','reqStatus', 'returnedStatus']\n",
    "    failure.to_csv(outputFailureFile, index = False)"
   ]
  }
 ],
 "metadata": {
  "kernelspec": {
   "display_name": "Python 3",
   "language": "python",
   "name": "python3"
  },
  "language_info": {
   "codemirror_mode": {
    "name": "ipython",
    "version": 3
   },
   "file_extension": ".py",
   "mimetype": "text/x-python",
   "name": "python",
   "nbconvert_exporter": "python",
   "pygments_lexer": "ipython3",
   "version": "3.6.2"
  }
 },
 "nbformat": 4,
 "nbformat_minor": 2
}
